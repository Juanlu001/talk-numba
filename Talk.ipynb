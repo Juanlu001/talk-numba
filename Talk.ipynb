{
 "cells": [
  {
   "cell_type": "markdown",
   "metadata": {
    "slideshow": {
     "slide_type": "slide"
    }
   },
   "source": [
    "![Is it a bird? Is it a plane? Accelerating Python with numba](img/cover.png)"
   ]
  },
  {
   "cell_type": "markdown",
   "metadata": {
    "slideshow": {
     "slide_type": "slide"
    }
   },
   "source": [
    "# Outline\n",
    "\n",
    "1. \"Python is slow\"\n",
    "2. What is numba?\n",
    "3. Some examples\n",
    "4. Limitations and workarounds\n",
    "5. Conclusions"
   ]
  },
  {
   "cell_type": "markdown",
   "metadata": {
    "slideshow": {
     "slide_type": "slide"
    }
   },
   "source": [
    "# Who is this guy?\n",
    "\n",
    "* **Aerospace Engineer** with a passion for orbits 🛰\n",
    "* Chair of the **Python España** non profit and co-organizer of **PyCon Spain** 🐍\n",
    "* **Software Developer** at **Satellogic** 🌍\n",
    "* Free Software advocate and Python enthusiast 🕮\n",
    "* Hard Rock lover 🎸\n",
    "\n",
    "Follow me! https://github.com/Juanlu001/\n",
    "\n",
    "![Me!](img/juanlu_esa.jpg)"
   ]
  },
  {
   "cell_type": "markdown",
   "metadata": {
    "slideshow": {
     "slide_type": "slide"
    }
   },
   "source": [
    "# \"Python is slow\"\n",
    "\n",
    "## Dynamic and interpreted (rather than static and compiled)\n",
    "\n",
    "![Four nested loops](img/loops.png)\n",
    "\n",
    "_(From https://gist.github.com/Juanlu001/cf19b1c16caf618860fb_)"
   ]
  },
  {
   "cell_type": "markdown",
   "metadata": {
    "slideshow": {
     "slide_type": "subslide"
    }
   },
   "source": [
    "## Data structures\n",
    "\n",
    "![array vs list](img/array_vs_list.png)\n",
    "\n",
    "_(From https://jakevdp.github.io/blog/2014/05/09/why-python-is-slow/_)"
   ]
  },
  {
   "cell_type": "markdown",
   "metadata": {
    "slideshow": {
     "slide_type": "subslide"
    }
   },
   "source": [
    "## Introspection\n",
    "\n",
    "![\"Why is checking isinstance(something, Mapping) so slow?\"](img/isinstance.png)\n",
    "\n",
    "_(From https://stackoverflow.com/q/42378726/554319)_"
   ]
  },
  {
   "cell_type": "markdown",
   "metadata": {
    "slideshow": {
     "slide_type": "slide"
    }
   },
   "source": [
    "![numba 0.1 is released](img/tweet-travis.png)\n",
    "\n",
    "https://twitter.com/teoliphant/status/235789560678858752"
   ]
  },
  {
   "cell_type": "markdown",
   "metadata": {
    "slideshow": {
     "slide_type": "slide"
    }
   },
   "source": [
    "# What is numba?\n",
    "\n",
    "![numba](img/numba.png)\n",
    "\n",
    "> Numba is an open source JIT compiler that translates a subset of Python and NumPy code into fast machine code.\n",
    "\n",
    "* Latest version (at the time of writing) 0.44, 16 days ago\n",
    "* Documentation https://numba.pydata.org/numba-doc/latest/index.html\n",
    "* BSD-2 License\n",
    "* Easy to install:\n",
    "\n",
    "```\n",
    "$ pip install numba\n",
    "$ conda install numba [--channel conda-forge]\n",
    "```"
   ]
  },
  {
   "cell_type": "markdown",
   "metadata": {
    "slideshow": {
     "slide_type": "subslide"
    }
   },
   "source": []
  },
  {
   "cell_type": "markdown",
   "metadata": {
    "slideshow": {
     "slide_type": "subslide"
    }
   },
   "source": []
  },
  {
   "cell_type": "markdown",
   "metadata": {
    "slideshow": {
     "slide_type": "subslide"
    }
   },
   "source": []
  },
  {
   "cell_type": "markdown",
   "metadata": {
    "slideshow": {
     "slide_type": "subslide"
    }
   },
   "source": []
  },
  {
   "cell_type": "markdown",
   "metadata": {
    "slideshow": {
     "slide_type": "subslide"
    }
   },
   "source": []
  },
  {
   "cell_type": "markdown",
   "metadata": {
    "slideshow": {
     "slide_type": "slide"
    }
   },
   "source": [
    "# Caveats and limitations\n",
    "\n",
    "## The \"nopython mode\" is the only way\n",
    "\n",
    "* Two modes: \"object mode\" and \"nopython mode\", only the latter is truly optimized\n",
    "* Functions JITted in nopython mode can only call other functions in nopython mode\n",
    "* _Avoid \"object mode\"!_ In the process of being deprecated, in numba 0.44 raises warnings\n",
    "\n",
    "![It's nopython all the way down](img/nopython.jpg)"
   ]
  },
  {
   "cell_type": "code",
   "execution_count": 15,
   "metadata": {
    "slideshow": {
     "slide_type": "subslide"
    }
   },
   "outputs": [
    {
     "data": {
      "text/plain": [
       "[0, 1, 2, 3, 4, 5, 6, 7, 8, 9]"
      ]
     },
     "execution_count": 15,
     "metadata": {},
     "output_type": "execute_result"
    }
   ],
   "source": [
    "@jit\n",
    "def range10():\n",
    "    l = []\n",
    "    for x in range(10):\n",
    "        l.append(x)\n",
    "    return l\n",
    "\n",
    "range10()"
   ]
  },
  {
   "cell_type": "code",
   "execution_count": 17,
   "metadata": {
    "scrolled": false,
    "slideshow": {
     "slide_type": "subslide"
    }
   },
   "outputs": [
    {
     "name": "stderr",
     "output_type": "stream",
     "text": [
      "<ipython-input-17-2e1fa93510fc>:1: NumbaWarning: \n",
      "Compilation is falling back to object mode WITH looplifting enabled because Function \"reversed_range10\" failed type inference due to: Untyped global name 'reversed': cannot determine Numba type of <class 'type'>\n",
      "\n",
      "File \"<ipython-input-17-2e1fa93510fc>\", line 7:\n",
      "def reversed_range10():\n",
      "    <source elided>\n",
      "\n",
      "    return reversed(l)  # innocuous change, but no reversed support in nopython mode\n",
      "    ^\n",
      "\n",
      "  @jit\n",
      "<ipython-input-17-2e1fa93510fc>:1: NumbaWarning: \n",
      "Compilation is falling back to object mode WITHOUT looplifting enabled because Function \"reversed_range10\" failed type inference due to: cannot determine Numba type of <class 'numba.dispatcher.LiftedLoop'>\n",
      "\n",
      "File \"<ipython-input-17-2e1fa93510fc>\", line 4:\n",
      "def reversed_range10():\n",
      "    <source elided>\n",
      "    l = []\n",
      "    for x in range(10):\n",
      "    ^\n",
      "\n",
      "  @jit\n",
      "/home/juanlu/.miniconda36/envs/numba37/lib/python3.7/site-packages/numba/compiler.py:725: NumbaWarning: Function \"reversed_range10\" was compiled in object mode without forceobj=True, but has lifted loops.\n",
      "\n",
      "File \"<ipython-input-17-2e1fa93510fc>\", line 2:\n",
      "@jit\n",
      "def reversed_range10():\n",
      "^\n",
      "\n",
      "  self.func_ir.loc))\n",
      "/home/juanlu/.miniconda36/envs/numba37/lib/python3.7/site-packages/numba/compiler.py:734: NumbaDeprecationWarning: \n",
      "Fall-back from the nopython compilation path to the object mode compilation path has been detected, this is deprecated behaviour.\n",
      "\n",
      "For more information visit http://numba.pydata.org/numba-doc/latest/reference/deprecation.html#deprecation-of-object-mode-fall-back-behaviour-when-using-jit\n",
      "\n",
      "File \"<ipython-input-17-2e1fa93510fc>\", line 2:\n",
      "@jit\n",
      "def reversed_range10():\n",
      "^\n",
      "\n",
      "  warnings.warn(errors.NumbaDeprecationWarning(msg, self.func_ir.loc))\n",
      "<ipython-input-17-2e1fa93510fc>:1: NumbaWarning: \n",
      "Compilation is falling back to object mode WITHOUT looplifting enabled because Function \"reversed_range10\" failed type inference due to: non-precise type pyobject\n",
      "[1] During: typing of argument at <ipython-input-17-2e1fa93510fc> (4)\n",
      "\n",
      "File \"<ipython-input-17-2e1fa93510fc>\", line 4:\n",
      "def reversed_range10():\n",
      "    <source elided>\n",
      "    l = []\n",
      "    for x in range(10):\n",
      "    ^\n",
      "\n",
      "  @jit\n",
      "/home/juanlu/.miniconda36/envs/numba37/lib/python3.7/site-packages/numba/compiler.py:725: NumbaWarning: Function \"reversed_range10\" was compiled in object mode without forceobj=True.\n",
      "\n",
      "File \"<ipython-input-17-2e1fa93510fc>\", line 4:\n",
      "def reversed_range10():\n",
      "    <source elided>\n",
      "    l = []\n",
      "    for x in range(10):\n",
      "    ^\n",
      "\n",
      "  self.func_ir.loc))\n",
      "/home/juanlu/.miniconda36/envs/numba37/lib/python3.7/site-packages/numba/compiler.py:734: NumbaDeprecationWarning: \n",
      "Fall-back from the nopython compilation path to the object mode compilation path has been detected, this is deprecated behaviour.\n",
      "\n",
      "For more information visit http://numba.pydata.org/numba-doc/latest/reference/deprecation.html#deprecation-of-object-mode-fall-back-behaviour-when-using-jit\n",
      "\n",
      "File \"<ipython-input-17-2e1fa93510fc>\", line 4:\n",
      "def reversed_range10():\n",
      "    <source elided>\n",
      "    l = []\n",
      "    for x in range(10):\n",
      "    ^\n",
      "\n",
      "  warnings.warn(errors.NumbaDeprecationWarning(msg, self.func_ir.loc))\n",
      "<ipython-input-17-2e1fa93510fc>:1: NumbaWarning: \n",
      "Compilation is falling back to object mode WITHOUT looplifting enabled because Function \"reversed_range10\" failed type inference due to: non-precise type pyobject\n",
      "[1] During: typing of argument at <ipython-input-17-2e1fa93510fc> (4)\n",
      "\n",
      "File \"<ipython-input-17-2e1fa93510fc>\", line 4:\n",
      "def reversed_range10():\n",
      "    <source elided>\n",
      "    l = []\n",
      "    for x in range(10):\n",
      "    ^\n",
      "\n",
      "  @jit\n",
      "/home/juanlu/.miniconda36/envs/numba37/lib/python3.7/site-packages/numba/compiler.py:725: NumbaWarning: Function \"reversed_range10\" was compiled in object mode without forceobj=True.\n",
      "\n",
      "File \"<ipython-input-17-2e1fa93510fc>\", line 4:\n",
      "def reversed_range10():\n",
      "    <source elided>\n",
      "    l = []\n",
      "    for x in range(10):\n",
      "    ^\n",
      "\n",
      "  self.func_ir.loc))\n",
      "/home/juanlu/.miniconda36/envs/numba37/lib/python3.7/site-packages/numba/compiler.py:734: NumbaDeprecationWarning: \n",
      "Fall-back from the nopython compilation path to the object mode compilation path has been detected, this is deprecated behaviour.\n",
      "\n",
      "For more information visit http://numba.pydata.org/numba-doc/latest/reference/deprecation.html#deprecation-of-object-mode-fall-back-behaviour-when-using-jit\n",
      "\n",
      "File \"<ipython-input-17-2e1fa93510fc>\", line 4:\n",
      "def reversed_range10():\n",
      "    <source elided>\n",
      "    l = []\n",
      "    for x in range(10):\n",
      "    ^\n",
      "\n",
      "  warnings.warn(errors.NumbaDeprecationWarning(msg, self.func_ir.loc))\n"
     ]
    },
    {
     "data": {
      "text/plain": [
       "<list_reverseiterator at 0x7f668f6f0cc0>"
      ]
     },
     "execution_count": 17,
     "metadata": {},
     "output_type": "execute_result"
    }
   ],
   "source": [
    "@jit\n",
    "def reversed_range10():\n",
    "    l = []\n",
    "    for x in range(10):\n",
    "        l.append(x)\n",
    "\n",
    "    return reversed(l)  # innocuous change, but no reversed support in nopython mode\n",
    "\n",
    "reversed_range10()"
   ]
  },
  {
   "cell_type": "code",
   "execution_count": 22,
   "metadata": {
    "slideshow": {
     "slide_type": "subslide"
    }
   },
   "outputs": [
    {
     "data": {
      "text/plain": [
       "[9, 8, 7, 6, 5, 4, 3, 2, 1, 0]"
      ]
     },
     "execution_count": 22,
     "metadata": {},
     "output_type": "execute_result"
    }
   ],
   "source": [
    "@jit(nopython=True)\n",
    "def reversed_range10():\n",
    "    l = []\n",
    "    for x in range(10):\n",
    "        l.append(x)\n",
    "\n",
    "    return l[::-1]  # innocuous change, but no reversed support in nopython mode\n",
    "\n",
    "reversed_range10()"
   ]
  },
  {
   "cell_type": "code",
   "execution_count": 23,
   "metadata": {
    "slideshow": {
     "slide_type": "fragment"
    }
   },
   "outputs": [
    {
     "data": {
      "text/plain": [
       "[9, 8, 7, 6, 5, 4, 3, 2, 1, 0]"
      ]
     },
     "execution_count": 23,
     "metadata": {},
     "output_type": "execute_result"
    }
   ],
   "source": [
    "from numba import njit\n",
    "\n",
    "@njit\n",
    "def reversed_range10():\n",
    "    l = []\n",
    "    for x in range(10):\n",
    "        l.append(x)\n",
    "\n",
    "    return l[::-1]  # innocuous change, but no reversed support in nopython mode\n",
    "\n",
    "reversed_range10()"
   ]
  },
  {
   "cell_type": "markdown",
   "metadata": {
    "slideshow": {
     "slide_type": "subslide"
    }
   },
   "source": [
    "## Passing functions as arguments is _slow_\n",
    "\n",
    "* Since numba 0.38 the user can pass JITted functions as arguments, but it's even slower than not JITting them https://github.com/numba/numba/issues/2952\n",
    "* Arguably the most important blocker to write reusable numba code"
   ]
  },
  {
   "cell_type": "code",
   "execution_count": 25,
   "metadata": {
    "slideshow": {
     "slide_type": "skip"
    }
   },
   "outputs": [],
   "source": [
    "@njit\n",
    "def func(x):\n",
    "    return x**3 - 1\n",
    "\n",
    "@njit\n",
    "def fprime(x):\n",
    "    return 3 * x**2"
   ]
  },
  {
   "cell_type": "code",
   "execution_count": 26,
   "metadata": {
    "slideshow": {
     "slide_type": "fragment"
    }
   },
   "outputs": [],
   "source": [
    "@njit\n",
    "def njit_newton(func, x0, fprime):\n",
    "    for _ in range(50):\n",
    "        fder = fprime(x0)\n",
    "        fval = func(x0)\n",
    "        newton_step = fval / fder\n",
    "        x = x0 - newton_step\n",
    "        if abs(x - x0) < 1.48e-8:\n",
    "            return x\n",
    "        x0 = x"
   ]
  },
  {
   "cell_type": "code",
   "execution_count": 29,
   "metadata": {
    "slideshow": {
     "slide_type": "skip"
    }
   },
   "outputs": [
    {
     "name": "stdout",
     "output_type": "stream",
     "text": [
      "18.7 µs ± 499 ns per loop (mean ± std. dev. of 7 runs, 10000 loops each)\n",
      "3.62 µs ± 80.8 ns per loop (mean ± std. dev. of 7 runs, 100000 loops each)\n"
     ]
    }
   ],
   "source": [
    "%timeit njit_newton(func, 1.5, fprime)\n",
    "%timeit njit_newton.py_func(func, 1.5, fprime=fprime)"
   ]
  },
  {
   "cell_type": "markdown",
   "metadata": {
    "slideshow": {
     "slide_type": "subslide"
    }
   },
   "source": [
    "With a smart combination of closures and caching we can implement a workaround:"
   ]
  },
  {
   "cell_type": "code",
   "execution_count": 52,
   "metadata": {
    "slideshow": {
     "slide_type": "fragment"
    }
   },
   "outputs": [],
   "source": [
    "@lru_cache()\n",
    "def newton_generator(func, fprime):\n",
    "    @njit\n",
    "    def njit_newton_final(x0):\n",
    "        for _ in range(50):\n",
    "            fder = fprime(x0)\n",
    "            fval = func(x0)\n",
    "            newton_step = fval / fder\n",
    "            x = x0 - newton_step\n",
    "            if abs(x - x0) < 1.48e-8:\n",
    "                return x\n",
    "            x0 = x\n",
    "\n",
    "    return njit_newton_final"
   ]
  },
  {
   "cell_type": "code",
   "execution_count": 53,
   "metadata": {
    "slideshow": {
     "slide_type": "skip"
    }
   },
   "outputs": [
    {
     "name": "stdout",
     "output_type": "stream",
     "text": [
      "352 µs ± 0 ns per loop (mean ± std. dev. of 1 run, 1 loop each)\n"
     ]
    }
   ],
   "source": [
    "%timeit -n1 -r1 newton_generator(func, fprime)"
   ]
  },
  {
   "cell_type": "code",
   "execution_count": 54,
   "metadata": {
    "slideshow": {
     "slide_type": "skip"
    }
   },
   "outputs": [
    {
     "name": "stdout",
     "output_type": "stream",
     "text": [
      "2.99 µs ± 0 ns per loop (mean ± std. dev. of 1 run, 1 loop each)\n"
     ]
    }
   ],
   "source": [
    "%timeit -n1 -r1 newton_generator(func, fprime)"
   ]
  },
  {
   "cell_type": "code",
   "execution_count": 55,
   "metadata": {
    "slideshow": {
     "slide_type": "skip"
    }
   },
   "outputs": [
    {
     "name": "stdout",
     "output_type": "stream",
     "text": [
      "79.4 ms ± 0 ns per loop (mean ± std. dev. of 1 run, 1 loop each)\n"
     ]
    }
   ],
   "source": [
    "newton_func = newton_generator(func, fprime)\n",
    "%timeit -n1 -r1 newton_func(1.5)"
   ]
  },
  {
   "cell_type": "code",
   "execution_count": 56,
   "metadata": {
    "slideshow": {
     "slide_type": "skip"
    }
   },
   "outputs": [
    {
     "name": "stdout",
     "output_type": "stream",
     "text": [
      "241 ns ± 3.94 ns per loop (mean ± std. dev. of 7 runs, 1000000 loops each)\n"
     ]
    }
   ],
   "source": [
    "%timeit newton_func(1.5)"
   ]
  },
  {
   "cell_type": "code",
   "execution_count": 57,
   "metadata": {
    "slideshow": {
     "slide_type": "skip"
    }
   },
   "outputs": [
    {
     "name": "stdout",
     "output_type": "stream",
     "text": [
      "124 ns ± 5.77 ns per loop (mean ± std. dev. of 7 runs, 10000000 loops each)\n"
     ]
    }
   ],
   "source": [
    "%timeit newton_generator(func, fprime)"
   ]
  },
  {
   "cell_type": "code",
   "execution_count": 60,
   "metadata": {
    "slideshow": {
     "slide_type": "fragment"
    }
   },
   "outputs": [
    {
     "name": "stdout",
     "output_type": "stream",
     "text": [
      "445 ns ± 20.8 ns per loop (mean ± std. dev. of 7 runs, 1000000 loops each)\n"
     ]
    }
   ],
   "source": [
    "def newton(func, x0, fprime):\n",
    "    return newton_generator(func, fprime)(x0)\n",
    "\n",
    "%timeit newton(func, 1.5, fprime)"
   ]
  },
  {
   "cell_type": "markdown",
   "metadata": {
    "slideshow": {
     "slide_type": "subslide"
    }
   },
   "source": [
    "## NumPy arrays and nothing else\n",
    "\n",
    "![Two layers](img/two-layers.png)\n",
    "\n",
    "High level API:\n",
    "\n",
    "* Supports complex data structures (e.g. `astropy.units` or `pint`, NumPy extensions for physical units) \n",
    "* Convert the code to normalized, simple structure that numba understands\n",
    "\n",
    "Dangerous™ algorithms:\n",
    "\n",
    "* Fast (easy to accelerate with `numba.njit`)\n",
    "* Only cares about numbers, makes assumptions"
   ]
  },
  {
   "cell_type": "markdown",
   "metadata": {
    "slideshow": {
     "slide_type": "slide"
    }
   },
   "source": [
    "# Conclusions"
   ]
  },
  {
   "cell_type": "markdown",
   "metadata": {
    "slideshow": {
     "slide_type": "slide"
    }
   },
   "source": [
    "# Thank you!\n",
    "\n",
    "* https://github.com/Juanlu001/talk-numba\n",
    "* <hello@juanlu.space>"
   ]
  },
  {
   "cell_type": "markdown",
   "metadata": {
    "slideshow": {
     "slide_type": "slide"
    }
   },
   "source": [
    "# Backup slides"
   ]
  },
  {
   "cell_type": "markdown",
   "metadata": {
    "slideshow": {
     "slide_type": "slide"
    }
   },
   "source": [
    "## Comparison of solutions\n",
    "\n",
    "| Project | Pros | Cons |\n",
    "|--------|-----------------------------------------|-----------------------------------------------------------------------------------------------|\n",
    "| NumPy | Powerful, omnipresent  | Vectorized code is sometimes difficult to read<sup>1</sup>, if you can't vectorize you are out of luck |\n",
    "| Cython | Gradual, effective, widely used, mature | Tricky if you don't know any C, couldn't make the native debugger work<sup>2</sup> |\n",
    "| PyPy | General purpose | C extensions still very slow, no wheels on PyPI |\n",
    "| Numba | Simplest, very effective | Only numerical code, needs special care |\n",
    "\n",
    "And many others: Pythran, Nuitka, mypyc...\n",
    "\n",
    "<sup>1</sup>Check out \"Integration with the vernacular\", by James Powell https://pyvideo.org/pydata-london-2015/integration-with-the-vernacular.html\n",
    "\n",
    "<sup>2</sup>https://github.com/cython/cython/issues/2699\n",
    "\n",
    "<sup>3</sup>See https://github.com/antocuni/pypy-wheels for a half-baked effort. Perhaps the future will be brighter with the new manylinux2010 specification? https://bitbucket.org/pypy/pypy/issues/2617/pypy-binary-is-linked-to-too-much-stuff, https://github.com/pypa/manylinux/issues/179"
   ]
  }
 ],
 "metadata": {
  "celltoolbar": "Slideshow",
  "kernelspec": {
   "display_name": "Python 3",
   "language": "python",
   "name": "python3"
  },
  "language_info": {
   "codemirror_mode": {
    "name": "ipython",
    "version": 3
   },
   "file_extension": ".py",
   "mimetype": "text/x-python",
   "name": "python",
   "nbconvert_exporter": "python",
   "pygments_lexer": "ipython3",
   "version": "3.7.3"
  }
 },
 "nbformat": 4,
 "nbformat_minor": 2
}
